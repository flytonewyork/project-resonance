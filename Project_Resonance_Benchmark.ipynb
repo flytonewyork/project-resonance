{
 "cells": [
  {
   "cell_type": "markdown",
   "metadata": {},
   "source": [
    "# Project Resonance: A-Z Benchmark Notebook\n",
    "**Version:** 1.0\n",
    "**Date:** June 11, 2025\n",
    "\n",
    "## Objective\n",
    "This notebook contains the complete workflow to test our core hypothesis: that a novel, resonance-based reward signal can fine-tune the Evo-1B foundation model to outperform its baseline on the BRCA1 variant effect prediction task. Success is defined as our tuned model achieving a higher Area Under the Curve (AUC) score than the baseline."
   ]
  },
  {
   "cell_type": "markdown",
   "metadata": {},
   "source": [
    "## Part 1: Initial Environment Setup\n",
    "\n",
    "This notebook assumes you have already performed the following one-time setup steps in your terminal on the cloud instance:\n",
    "\n",
    "1. **Initialized Conda:**\n",
    "   ```bash\n",
    "   ~/miniconda3/bin/conda init bash\n",
    "   source ~/.bashrc\n",
    "   ```\n",
    "2. **Created and Activated the Environment:**\n",
    "   ```bash\n",
    "   conda create -n evo_project python=3.10 -y\n",
    "   conda activate evo_project\n",
    "   ```\n",
    "3. **Installed Libraries:** You have run the `pip install` commands for PyTorch, Transformers, PEFT, etc.\n",
    "4. **Logged into Hugging Face:** You have run `huggingface-cli login` and provided your access token."
   ]
  },
  {
   "cell_type": "markdown",
   "metadata": {},
   "source": [
    "---"
   ]
  },
  {
   "cell_type": "markdown",
   "metadata": {},
   "source": [
    "## Part 2: Imports and Global Configuration"
   ]
  },
  {
   "cell_type": "code",
   "execution_count": null,
   "metadata": {},
   "outputs": [],
   "source": [
    "import torch\n",
    "import torch.nn as nn\n",
    "from torch.utils.data import DataLoader, Dataset\n",
    "from transformers import AutoModelForCausalLM, AutoTokenizer, get_linear_schedule_with_warmup\n",
    "from peft import get_peft_model, LoraConfig, TaskType\n",
    "import numpy as np\n",
    "import pandas as pd\n",
    "import matplotlib.pyplot as plt\n",
    "from sklearn.metrics import roc_curve, auc\n",
    "from tqdm.notebook import tqdm\n",
    "import os\n",
    "\n",
    "# --- Global Configuration ---\n",
    "MODEL_ID = \"togethercomputer/evo-1-131k-base\"\n",
    "DEVICE = \"cuda\" if torch.cuda.is_available() else \"cpu\"\n",
    "\n",
    "# Fine-tuning Hyperparameters\n",
    "LEARNING_RATE = 1e-4\n",
    "BATCH_SIZE = 8\n",
    "NUM_EPOCHS = 1\n",
    "LAMBDA_DIVERSITY = 0.1 # Weight for our diversity reward term\n",
    "LORA_R = 8\n",
    "LORA_ALPHA = 16\n",
    "LORA_DROPOUT = 0.1\n",
    "\n",
    "# File Paths (You may need to create these files)\n",
    "STABILITY_DATASET_PATH = \"chr22.fa\" # Dataset for our fine-tuning\n",
    "BRCA1_REF_PATH = \"brca1_reference.fa\" # Reference sequence for BRCA1\n",
    "BRCA1_VARIANTS_PATH = \"brca1_variants.csv\" # ClinVar data for BRCA1\n",
    "TUNED_LORA_PATH = \"./resonator_lora\"\n",
    "TUNED_HEAD_PATH = \"./resonator_head.pth\"\n",
    "\n",
    "print(f\"Using device: {DEVICE}\")\n",
    "if DEVICE == \"cuda\":\n",
    "    print(f\"GPU: {torch.cuda.get_device_name(0)}\")"
   ]
  },
  {
   "cell_type": "markdown",
   "metadata": {},
   "source": [
    "## Part 3: Data Preparation & Model Architecture\n",
    "\n",
    "This section contains helper functions and classes for loading data and defining our custom model components. We will call these later."
   ]
  },
  {
   "cell_type": "code",
   "execution_count": null,
   "metadata": {},
   "outputs": [],
   "source": [
    "class FastaDataset(Dataset):\n",
    "    \"\"\"A simple PyTorch Dataset for FASTA files.\"\"\"\n",
    "    def __init__(self, fasta_file, tokenizer, max_length=1024):\n",
    "        self.tokenizer = tokenizer\n",
    "        self.max_length = max_length\n",
    "        self.sequences = []\n",
    "        if not os.path.exists(fasta_file):\n",
    "            print(f\"Warning: Fasta file not found at {fasta_file}. Creating dummy file.\")\n",
    "            with open(fasta_file, 'w') as f:\n",
    "                f.write(\">dummy_sequence\\n\")\n",
    "                f.write(\"GATTACAGATTACAGATTACAGATTACAGATTACAGATTACAGATTACAGATTACAGATTACA\\n\")\n",
    "        \n",
    "        with open(fasta_file, 'r') as f:\n",
    "            sequence = \"\"\n",
    "            for line in f:\n",
    "                if line.startswith('>'):\n",
    "                    if sequence: self.sequences.append(sequence)\n",
    "                    sequence = \"\"\n",
    "                else:\n",
    "                    sequence += line.strip().upper()\n",
    "            if sequence: self.sequences.append(sequence)\n",
    "\n",
    "    def __len__(self):\n",
    "        return len(self.sequences)\n",
    "\n",
    "    def __getitem__(self, idx):\n",
    "        seq = self.sequences[idx]\n",
    "        tokenized = self.tokenizer(seq, max_length=self.max_length, padding=\"max_length\", truncation=True, return_tensors=\"pt\")\n",
    "        return {key: val.squeeze(0) for key, val in tokenized.items()} # Remove batch dimension\n",
    "\n",
    "class ProjectionHead(nn.Module):\n",
    "    \"\"\"Our custom projection head to create a clean latent space.\"\"\"\n",
    "    def __init__(self, input_dim=4096, hidden_dim=512, output_dim=128):\n",
    "        super().__init__()\n",
    "        self.net = nn.Sequential(\n",
    "            nn.Linear(input_dim, hidden_dim),\n",
    "            nn.ReLU(),\n",
    "            nn.Linear(hidden_dim, output_dim)\n",
    "        )\n",
    "    def forward(self, x):\n",
    "        return self.net(x)\n",
    "\n",
    "def calculate_resonance_reward(latent_vectors):\n",
    "    \"\"\"Calculates the reward for a batch of latent vectors.\"\"\"\n",
    "    # Reward for Low Entropy (approximated by rewarding vectors pushed from origin)\n",
    "    reward_entropy = torch.linalg.norm(latent_vectors, dim=1).mean()\n",
    "\n",
    "    # Reward for Diversity (high variance across the batch)\n",
    "    reward_diversity = latent_vectors.var(dim=0).mean()\n",
    "    \n",
    "    total_reward = reward_entropy + LAMBDA_DIVERSITY * reward_diversity\n",
    "    \n",
    "    # The loss for the optimizer is the negative of the reward we want to maximize\n",
    "    loss = -total_reward\n",
    "    \n",
    "    return loss, reward_entropy.item(), reward_diversity.item()\n",
    "\n",
    "print(\"Helper classes and functions defined.\")"
   ]
  },
  {
   "cell_type": "markdown",
   "metadata": {},
   "source": [
    "---"
   ]
  },
  {
   "cell_type": "markdown",
   "metadata": {},
   "source": [
    "## Part 4: The Benchmark Execution\n",
    "\n",
    "This section contains the main workflow for our experiment. We will execute these cells sequentially to get our final result."
   ]
  },
  {
   "cell_type": "markdown",
   "metadata": {},
   "source": [
    "### Step 4.1: Data Acquisition & Preparation\n",
    "**Action:** Create the necessary data files. For this first run, we will create dummy files. You should replace these with real, curated data for the final experiment."
   ]
  },
  {
   "cell_type": "code",
   "execution_count": null,
   "metadata": {},
   "outputs": [],
   "source": [
    "# Create a dummy stability dataset for fine-tuning\n",
    "with open(STABILITY_DATASET_PATH, 'w') as f:\n",
    "    f.write(\">highly_conserved_region_1\\n\")\n",
    "    f.write(\"AGCTCGGGTTAAACTAGCGGTCGATCGGCTAGCTAGCTACGCTAGCTACGCTAGCT\\n\")\n",
    "    f.write(\">highly_conserved_region_2\\n\")\n",
    "    f.write(\"TATATATACGCGCTATATACGCGCGTATATACGCGCGTATATACGCGCTATACG\\n\")\n",
    "\n",
    "# Create a dummy BRCA reference fasta\n",
    "with open(BRCA1_REF_PATH, 'w') as f:\n",
    "    f.write(\">brca1_ref\\n\")\n",
    "    f.write(\"GATTACAGATTACAGATTACAGATTACAGATTACAGATTACAGATTACATTTTTTATACAGATTACAGATTACAGATTACAGATTACAGATTACAGATTACAGATTACAGATTACA\" * 10)\n",
    "    \n",
    "# Create a dummy BRCA variants CSV\n",
    "dummy_variants = {\n",
    "    'position': [50, 100],\n",
    "    'ref_allele': ['A', 'T'],\n",
    "    'alt_allele': ['G', 'C'],\n",
    "    'label': ['Pathogenic', 'Benign']\n",
    "}\n",
    "pd.DataFrame(dummy_variants).to_csv(BRCA1_VARIANTS_PATH, index=False)\n",
    "\n",
    "print(f\"Dummy data files created at:\")\n",
    "print(f\"- {STABILITY_DATASET_PATH}\")\n",
    "print(f\"- {BRCA1_REF_PATH}\")\n",
    "print(f\"- {BRCA1_VARIANTS_PATH}\")"
   ]
  },
  {
   "cell_type": "markdown",
   "metadata": {},
   "source": [
    "### Step 4.2: Fine-Tuning Our Model (The Experiment)\n",
    "**Action:** Run the custom fine-tuning loop to create our specialized \"Stability Detector\"."
   ]
  },
  {
   "cell_type": "code",
   "execution_count": null,
   "metadata": {},
   "outputs": [],
   "source": [
    "print(\"--- Starting Model Fine-Tuning ---\")\n",
    "\n",
    "# 1. Load Tokenizer and Dataset\n",
    "tokenizer = AutoTokenizer.from_pretrained(MODEL_ID)\n",
    "stability_dataset = FastaDataset(STABILITY_DATASET_PATH, tokenizer)\n",
    "stability_dataloader = DataLoader(stability_dataset, batch_size=BATCH_SIZE)\n",
    "\n",
    "# 2. Load and Prepare Model\n",
    "base_model = AutoModelForCausalLM.from_pretrained(MODEL_ID)\n",
    "for param in base_model.parameters(): param.requires_grad = False\n",
    "\n",
    "lora_config = LoraConfig(task_type=TaskType.CAUSAL_LM, r=LORA_R, lora_alpha=LORA_ALPHA, lora_dropout=LORA_DROPOUT, target_modules=[\"Wqkv\", \"out_proj\"])\n",
    "lora_model = get_peft_model(base_model, lora_config).to(DEVICE)\n",
    "projection_head = ProjectionHead().to(DEVICE)\n",
    "\n",
    "# 3. Set up Optimizer\n",
    "trainable_params = list(lora_model.parameters()) + list(projection_head.parameters())\n",
    "optimizer = torch.optim.AdamW(trainable_params, lr=LEARNING_RATE)\n",
    "\n",
    "# 4. Run the Training Loop\n",
    "training_history = []\n",
    "lora_model.train()\n",
    "projection_head.train()\n",
    "\n",
    "for epoch in range(NUM_EPOCHS):\n",
    "    progress_bar = tqdm(stability_dataloader, desc=f\"Epoch {epoch+1}/{NUM_EPOCHS}\")\n",
    "    for batch in progress_bar:\n",
    "        input_ids = batch['input_ids'].to(DEVICE)\n",
    "        attention_mask = batch['attention_mask'].to(DEVICE)\n",
    "        \n",
    "        outputs = lora_model(input_ids=input_ids, attention_mask=attention_mask, output_hidden_states=True)\n",
    "        sequence_embedding = outputs.hidden_states[-1].mean(dim=1)\n",
    "        latent_vectors = projection_head(sequence_embedding)\n",
    "        \n",
    "        loss, _, _ = calculate_resonance_reward(latent_vectors)\n",
    "        \n",
    "        optimizer.zero_grad()\n",
    "        loss.backward()\n",
    "        optimizer.step()\n",
    "        \n",
    "        training_history.append(-loss.item())\n",
    "        progress_bar.set_postfix({\"Total Reward\": f\"{-loss.item():.4f}\"})\n",
    "\n",
    "# 5. Save the tuned components\n",
    "lora_model.save_pretrained(TUNED_LORA_PATH)\n",
    "torch.save(projection_head.state_dict(), TUNED_HEAD_PATH)\n",
    "\n",
    "print(\"\\nFine-tuning complete. Model saved.\")\n",
    "\n",
    "# Plot training reward\n",
    "plt.figure(figsize=(10, 5))\n",
    "plt.plot(training_history, label='Total Reward')\n",
    "plt.title('Resonance-Tuning Reward History')\n",
    "plt.xlabel('Steps')\n",
    "plt.ylabel('Reward')\n",
    "plt.legend()\n",
    "plt.grid(True)\n",
    "plt.show()"
   ]
  },
  {
   "cell_type": "markdown",
   "metadata": {},
   "source": [
    "### Step 4.3: Comparative Analysis (The Final Result)\n",
    "**Action:** Load both the baseline and our tuned model, score the BRCA benchmark dataset with each, and plot the ROC curves to compare their performance."
   ]
  },
  {
   "cell_type": "code",
   "execution_count": null,
   "metadata": {},
   "outputs": [],
   "source": [
    "print(\"--- Starting Benchmark Comparison ---\")\n",
    "\n",
    "# This cell is a placeholder for the full benchmarking script.\n",
    "# It requires the functions 'get_baseline_scores' and 'get_resonator_scores' to be fully implemented\n",
    "# as conceptualized in the project plan document.\n",
    "\n",
    "# For this demonstration, we will generate dummy scores.\n",
    "print(\"Generating dummy scores for demonstration purposes...\")\n",
    "num_variants = len(pd.read_csv(BRCA1_VARIANTS_PATH))\n",
    "y_true = np.random.randint(0, 2, num_variants)\n",
    "\n",
    "# Dummy baseline scores - should be close to random\n",
    "y_score_base = y_true * 0.1 + np.random.rand(num_variants) * 0.5\n",
    "\n",
    "# Dummy resonator scores - should be better than baseline\n",
    "y_score_res = y_true * 0.4 + np.random.rand(num_variants) * 0.5\n",
    "\n",
    "# --- ROC Curve Calculation ---\n",
    "fpr_base, tpr_base, _ = roc_curve(y_true, y_score_base)\n",
    "auc_base = auc(fpr_base, tpr_base)\n",
    "\n",
    "fpr_res, tpr_res, _ = roc_curve(y_true, y_score_res)\n",
    "auc_res = auc(fpr_res, tpr_res)\n",
    "\n",
    "print(f\"Baseline Model AUC: {auc_base:.4f}\")\n",
    "print(f\"Our Tuned Model AUC: {auc_res:.4f}\")\n",
    "\n",
    "# --- Plotting ---\n",
    "plt.figure(figsize=(10, 8))\n",
    "plt.plot(fpr_base, tpr_base, lw=2, label=f'Baseline Evo-1B (AUC = {auc_base:.4f})', color='blue')\n",
    "plt.plot(fpr_res, tpr_res, lw=2, label=f'Our Resonance-Tuned Model (AUC = {auc_res:.4f})', color='orange', linestyle='-')\n",
    "plt.plot([0, 1], [0, 1], color='navy', lw=2, linestyle='--')\n",
    "plt.xlim([0.0, 1.0])\n",
    "plt.ylim([0.0, 1.05])\n",
    "plt.xlabel('False Positive Rate')\n",
    "plt.ylabel('True Positive Rate')\n",
    "plt.title('BRCA1 Variant Pathogenicity Prediction: ROC Curve Comparison')\n",
    "plt.legend(loc=\"lower right\")\n",
    "plt.grid(True)\n",
    "plt.show()"
   ]
  },
  {
   "cell_type": "markdown",
   "metadata": {},
   "source": [
    "## Part 5: Conclusion\n",
    "\n",
    "The final graph above is the primary deliverable of this research sprint. A successful outcome is characterized by the orange line (Our Tuned Model) sitting significantly above the blue line (Baseline Evo-1B), with a correspondingly higher AUC score. This would provide the first piece of strong empirical evidence that our novel fine-tuning paradigm can successfully guide a foundation model to learn and apply a new, underlying principle from data."
   ]
  }
 ],
 "metadata": {
  "kernelspec": {
   "display_name": "Python 3",
   "language": "python",
   "name": "python3"
  },
  "language_info": {
   "codemirror_mode": {
    "name": "ipython",
    "version": 3
   },
   "file_extension": ".py",
   "mimetype": "text/x-python",
   "name": "python",
   "nbconvert_exporter": "python",
   "pygments_lexer": "ipython3",
   "version": "3.10.9"
  }
 },
 "nbformat": 4,
 "nbformat_minor": 4
}
